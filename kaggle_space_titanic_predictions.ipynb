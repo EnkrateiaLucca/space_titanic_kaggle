{
 "cells": [
  {
   "cell_type": "code",
   "execution_count": 6,
   "metadata": {},
   "outputs": [],
   "source": [
    "import pandas as pd\n",
    "import numpy as np\n",
    "import matplotlib.pyplot as plt\n",
    "import seaborn as sns\n",
    "sns.set()\n",
    "from sklearn.linear_model import LogisticRegression\n",
    "from sklearn.ensemble import RandomForestClassifier, GradientBoostingClassifier\n",
    "from sklearn.neighbors import KNeighborsClassifier\n",
    "from sklearn.svm import SVC\n",
    "from sklearn.model_selection import train_test_split\n",
    "import pathlib\n",
    "\n",
    "df_test = pd.read_csv(\"./data/test_cleaned.csv\")\n",
    "df_train = pd.read_csv(\"./data/train_cleaned.csv\")"
   ]
  },
  {
   "cell_type": "code",
   "execution_count": 7,
   "metadata": {},
   "outputs": [],
   "source": [
    "# split\n",
    "X_train = df_train.drop('Transported', axis=1)\n",
    "y_train = df_train['Transported']\n",
    "X_test = df_test.drop('PassengerId', axis=1).copy()"
   ]
  },
  {
   "cell_type": "code",
   "execution_count": 12,
   "metadata": {},
   "outputs": [],
   "source": [
    "# rf = RandomForestClassifier()\n",
    "# rf.fit(X_train,y_train)\n",
    "# lg = LogisticRegression()\n",
    "# lg.fit(X_train,y_train)\n",
    "# gb = GradientBoostingClassifier()\n",
    "# gb.fit(X_train,y_train)\n",
    "# model = KNeighborsClassifier(n_neighbors=3)\n",
    "# model.fit(X_train,y_train)\n",
    "# from sklearn.svm import SVC\n",
    "model = SVC()\n",
    "model.fit(X_train,y_train)\n",
    "predictions = model.predict(X_test)"
   ]
  },
  {
   "cell_type": "code",
   "execution_count": 13,
   "metadata": {},
   "outputs": [],
   "source": [
    "df_submissions = pd.DataFrame({'PassengerId':df_test['PassengerId'],'Transported':predictions})\n",
    "df_submissions.to_csv('./data/submission.csv',index=False)"
   ]
  },
  {
   "cell_type": "code",
   "execution_count": 14,
   "metadata": {},
   "outputs": [
    {
     "name": "stdout",
     "output_type": "stream",
     "text": [
      "100%|██████████████████████████████████████| 56.0k/56.0k [00:01<00:00, 34.8kB/s]\n",
      "Successfully submitted to Spaceship Titanic"
     ]
    }
   ],
   "source": [
    "!kaggle competitions submit -c spaceship-titanic -f ./data/submission.csv -m \"Submission with Suppoort Vector Machines Model\""
   ]
  }
 ],
 "metadata": {
  "kernelspec": {
   "display_name": "Python 3.10.4 64-bit",
   "language": "python",
   "name": "python3"
  },
  "language_info": {
   "codemirror_mode": {
    "name": "ipython",
    "version": 3
   },
   "file_extension": ".py",
   "mimetype": "text/x-python",
   "name": "python",
   "nbconvert_exporter": "python",
   "pygments_lexer": "ipython3",
   "version": "3.10.4"
  },
  "orig_nbformat": 4,
  "vscode": {
   "interpreter": {
    "hash": "916dbcbb3f70747c44a77c7bcd40155683ae19c65e1c03b4aa3499c5328201f1"
   }
  }
 },
 "nbformat": 4,
 "nbformat_minor": 2
}
